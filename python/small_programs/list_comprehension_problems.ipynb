{
 "cells": [
  {
   "cell_type": "markdown",
   "metadata": {},
   "source": [
    "## list comprehension\n"
   ]
  },
  {
   "cell_type": "markdown",
   "metadata": {},
   "source": [
    "1) fetch all even numbers\n"
   ]
  },
  {
   "cell_type": "code",
   "execution_count": null,
   "metadata": {},
   "outputs": [
    {
     "ename": "",
     "evalue": "",
     "output_type": "error",
     "traceback": [
      "\u001b[1;31mRunning cells with '.nerd (Python 3.12.6)' requires the ipykernel package.\n",
      "\u001b[1;31mRun the following command to install 'ipykernel' into the Python environment. \n",
      "\u001b[1;31mCommand: '\"c:/nishant programs/my codes/.nerd/Scripts/python.exe\" -m pip install ipykernel -U --force-reinstall'"
     ]
    }
   ],
   "source": [
    "lst=[10,11,13,14,9,8]\n",
    "\n",
    "print([x for x in lst if x%2==0])"
   ]
  },
  {
   "cell_type": "markdown",
   "metadata": {},
   "source": [
    "2 fetch all string values from list\n"
   ]
  },
  {
   "cell_type": "code",
   "execution_count": 3,
   "metadata": {},
   "outputs": [
    {
     "name": "stdout",
     "output_type": "stream",
     "text": [
      "['a', 'b']\n",
      "['a', 'b']\n"
     ]
    }
   ],
   "source": [
    "lst=[10,\"a\",20,True,30,\"b\",40]\n",
    "\n",
    "print([x for x in lst if isinstance(x,str)])\n",
    "print([y for y in lst if type(y) is str])"
   ]
  },
  {
   "cell_type": "code",
   "execution_count": 4,
   "metadata": {},
   "outputs": [
    {
     "name": "stdout",
     "output_type": "stream",
     "text": [
      "[15, 20, 5]\n"
     ]
    }
   ],
   "source": [
    "#3 feth all 5 divvisibles from list\n",
    "\n",
    "lst=[12,15,27,20,5]\n",
    "\n",
    "print([x for x in lst if x%5==0])"
   ]
  },
  {
   "cell_type": "code",
   "execution_count": 8,
   "metadata": {},
   "outputs": [
    {
     "name": "stdout",
     "output_type": "stream",
     "text": [
      "4\n"
     ]
    }
   ],
   "source": [
    "#4 count total number of int values in the list\n",
    "lst = [10,\"a\",20,True,30,\"b\",40]\n",
    "\n",
    "print(len([x for x in lst if type(x) is int]))"
   ]
  },
  {
   "cell_type": "code",
   "execution_count": 10,
   "metadata": {},
   "outputs": [
    {
     "name": "stdout",
     "output_type": "stream",
     "text": [
      "15\n"
     ]
    }
   ],
   "source": [
    "#5 count total number of characters in the string (including space)\n",
    "\n",
    "st=\"python language\"\n",
    "\n",
    "print(len([char for char in st]))"
   ]
  },
  {
   "cell_type": "code",
   "execution_count": 11,
   "metadata": {},
   "outputs": [
    {
     "name": "stdout",
     "output_type": "stream",
     "text": [
      "5\n"
     ]
    }
   ],
   "source": [
    "#6 count total number of words in the string:\n",
    "\n",
    "st=\"python narayana tech house hyd\"\n",
    "\n",
    "print(len([x for x in st.split()]))"
   ]
  },
  {
   "cell_type": "code",
   "execution_count": 12,
   "metadata": {},
   "outputs": [
    {
     "name": "stdout",
     "output_type": "stream",
     "text": [
      "['o', 'a', 'u', 'a', 'e']\n"
     ]
    }
   ],
   "source": [
    "#7 fetch all vowels from the string:\n",
    "\n",
    "st=\"python language\"\n",
    "\n",
    "print([x for x in st if x in \"aeiou\"])"
   ]
  },
  {
   "cell_type": "code",
   "execution_count": 13,
   "metadata": {},
   "outputs": [
    {
     "name": "stdout",
     "output_type": "stream",
     "text": [
      "5\n"
     ]
    }
   ],
   "source": [
    "#8 count total number of vowels:\n",
    "\n",
    "st=\"python narayana\"\n",
    "\n",
    "print(len([x for x in st if x in \"aeiou\"]))"
   ]
  },
  {
   "cell_type": "code",
   "execution_count": 15,
   "metadata": {},
   "outputs": [
    {
     "name": "stdout",
     "output_type": "stream",
     "text": [
      "23\n"
     ]
    }
   ],
   "source": [
    "#9 count total numbr fo characters int he string (excluding space):\n",
    "\n",
    "st=\"python is a simple language\"\n",
    "\n",
    "print(len([x for x in st if x.isalpha()]))"
   ]
  },
  {
   "cell_type": "code",
   "execution_count": 20,
   "metadata": {},
   "outputs": [
    {
     "name": "stdout",
     "output_type": "stream",
     "text": [
      "9\n"
     ]
    }
   ],
   "source": [
    "#10 count consonent in the string:\n",
    "\n",
    "st=\"python language\"\n",
    "\n",
    "print(len([x for x in st if x not in \"aeiou \"]))"
   ]
  }
 ],
 "metadata": {
  "kernelspec": {
   "display_name": ".nerd",
   "language": "python",
   "name": "python3"
  },
  "language_info": {
   "codemirror_mode": {
    "name": "ipython",
    "version": 3
   },
   "file_extension": ".py",
   "mimetype": "text/x-python",
   "name": "python",
   "nbconvert_exporter": "python",
   "pygments_lexer": "ipython3",
   "version": "3.12.6"
  }
 },
 "nbformat": 4,
 "nbformat_minor": 2
}
