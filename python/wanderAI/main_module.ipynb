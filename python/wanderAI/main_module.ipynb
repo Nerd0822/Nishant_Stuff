{
 "cells": [
  {
   "cell_type": "markdown",
   "metadata": {},
   "source": [
    "# THIS IS THE MAIN MODULE\n",
    "## this will integrate and run all the module"
   ]
  },
  {
   "cell_type": "code",
   "execution_count": 6,
   "metadata": {},
   "outputs": [],
   "source": [
    "#importing all modules\n",
    "import import_ipynb\n",
    "import module1\n",
    "\n"
   ]
  },
  {
   "cell_type": "code",
   "execution_count": 5,
   "metadata": {},
   "outputs": [
    {
     "name": "stdout",
     "output_type": "stream",
     "text": [
      "Speak now....\n",
      "you said:  hello can you hear me\n",
      "hello can you hear me\n"
     ]
    }
   ],
   "source": [
    "# text to speech and output in speech\n",
    "\n",
    "text_log = module1.record_and_convert() #making a text log to store the text from speech\n",
    "\n",
    "print(text_log)\n",
    "\n",
    "module1.speak(text_log)\n"
   ]
  }
 ],
 "metadata": {
  "kernelspec": {
   "display_name": ".nerd",
   "language": "python",
   "name": "python3"
  },
  "language_info": {
   "codemirror_mode": {
    "name": "ipython",
    "version": 3
   },
   "file_extension": ".py",
   "mimetype": "text/x-python",
   "name": "python",
   "nbconvert_exporter": "python",
   "pygments_lexer": "ipython3",
   "version": "3.13.2"
  }
 },
 "nbformat": 4,
 "nbformat_minor": 2
}
