{
 "cells": [
  {
   "cell_type": "markdown",
   "metadata": {
    "vscode": {
     "languageId": "plaintext"
    }
   },
   "source": [
    "wanderAI\n",
    "module 1\n"
   ]
  },
  {
   "cell_type": "markdown",
   "metadata": {},
   "source": [
    "recording the user voice and converting it into text\n"
   ]
  },
  {
   "cell_type": "code",
   "execution_count": 5,
   "metadata": {},
   "outputs": [],
   "source": [
    "#importing libraries\n",
    "import speech_recognition as sr\n"
   ]
  },
  {
   "cell_type": "code",
   "execution_count": 6,
   "metadata": {},
   "outputs": [],
   "source": [
    "#recording voice and the convert it into text\n",
    "def record_and_convert(): #method to record and convert the speech to text\n",
    "    speech_recog=sr.Recognizer()\n",
    "    with sr.Microphone() as mic:\n",
    "        print(\"Speak now....\")\n",
    "        speech_recog.adjust_for_ambient_noise(mic) # to reduce noises in the voice\n",
    "        speech = speech_recog.listen(mic)\n",
    "        \n",
    "    try:\n",
    "        text = speech_recog.recognize_google(speech) #convert to text\n",
    "        print(\"you said: \",text)\n",
    "        return text\n",
    "    except sr.UnknownValueError:\n",
    "        print(\"sorry can you repeat that again\")\n",
    "        \n",
    "    except sr.RequestError:\n",
    "        print(\"count not request results.\")\n",
    "        \n",
    "    "
   ]
  },
  {
   "cell_type": "code",
   "execution_count": 9,
   "metadata": {},
   "outputs": [
    {
     "name": "stdout",
     "output_type": "stream",
     "text": [
      "Speak now....\n",
      "you said:  hello hello my name is Nishant and I am 23 years old\n"
     ]
    },
    {
     "data": {
      "text/plain": [
       "'hello hello my name is Nishant and I am 23 years old'"
      ]
     },
     "execution_count": 9,
     "metadata": {},
     "output_type": "execute_result"
    }
   ],
   "source": [
    "#running all methods\n",
    "record_and_convert()"
   ]
  }
 ],
 "metadata": {
  "kernelspec": {
   "display_name": ".projectvenv",
   "language": "python",
   "name": "python3"
  },
  "language_info": {
   "codemirror_mode": {
    "name": "ipython",
    "version": 3
   },
   "file_extension": ".py",
   "mimetype": "text/x-python",
   "name": "python",
   "nbconvert_exporter": "python",
   "pygments_lexer": "ipython3",
   "version": "3.13.2"
  }
 },
 "nbformat": 4,
 "nbformat_minor": 2
}
