{
 "cells": [
  {
   "cell_type": "markdown",
   "metadata": {
    "vscode": {
     "languageId": "plaintext"
    }
   },
   "source": [
    "# wanderAI\n",
    "## module 1 for speech to text\n"
   ]
  },
  {
   "cell_type": "code",
   "execution_count": 1,
   "metadata": {},
   "outputs": [],
   "source": [
    "#importing libraries\n",
    "import speech_recognition as sr\n",
    "import pyttsx3\n",
    "\n",
    "voice = 1 # 0 male and 1 female\n",
    "speed = 150"
   ]
  },
  {
   "cell_type": "code",
   "execution_count": 2,
   "metadata": {},
   "outputs": [],
   "source": [
    "#recording voice and the convert it into text\n",
    "def record_and_convert(): #method to record and convert the speech to text\n",
    "    speech_recog=sr.Recognizer()\n",
    "    with sr.Microphone() as mic:\n",
    "        print(\"Speak now....\")\n",
    "        speech_recog.adjust_for_ambient_noise(mic) # to reduce noises in the voice\n",
    "        speech = speech_recog.listen(mic,timeout=5,phrase_time_limit=30)\n",
    "        \n",
    "    try:\n",
    "        text = speech_recog.recognize_google(speech) #convert to text\n",
    "        print(\"you said: \",text)\n",
    "        return text\n",
    "    except sr.UnknownValueError:\n",
    "        print(\"sorry can you repeat that again\")\n",
    "        \n",
    "    except sr.RequestError:\n",
    "        print(\"count not request results.\")\n",
    "        \n",
    "    return \"\" # returning an empty string when any error occurs\n",
    "        \n",
    "    "
   ]
  },
  {
   "cell_type": "code",
   "execution_count": 3,
   "metadata": {},
   "outputs": [],
   "source": [
    "#method to speak\n",
    "def speak(txt):\n",
    "    engine = pyttsx3.init()\n",
    "    \n",
    "    #get the list of all available voices\n",
    "    voices = engine.getProperty(\"voices\")\n",
    "    \n",
    "    #applying the voice property\n",
    "    engine.setProperty(\"voice\",voices[voice].id)\n",
    "    engine.setProperty(\"rate\",speed)\n",
    "    \n",
    "    engine.say(txt)\n",
    "    engine.runAndWait()\n",
    "    "
   ]
  }
 ],
 "metadata": {
  "kernelspec": {
   "display_name": ".nerd",
   "language": "python",
   "name": "python3"
  },
  "language_info": {
   "codemirror_mode": {
    "name": "ipython",
    "version": 3
   },
   "file_extension": ".py",
   "mimetype": "text/x-python",
   "name": "python",
   "nbconvert_exporter": "python",
   "pygments_lexer": "ipython3",
   "version": "3.13.2"
  }
 },
 "nbformat": 4,
 "nbformat_minor": 2
}
