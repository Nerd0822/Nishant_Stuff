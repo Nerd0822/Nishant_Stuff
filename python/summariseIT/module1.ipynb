{
 "cells": [
  {
   "cell_type": "markdown",
   "metadata": {},
   "source": [
    "## Importing the neccessary libraries "
   ]
  },
  {
   "cell_type": "code",
   "execution_count": 1,
   "metadata": {},
   "outputs": [],
   "source": [
    "import speech_recognition as sr\n",
    "import pyttsx3"
   ]
  },
  {
   "cell_type": "markdown",
   "metadata": {},
   "source": [
    "### Initializing The Recognizer"
   ]
  },
  {
   "cell_type": "code",
   "execution_count": 2,
   "metadata": {},
   "outputs": [],
   "source": [
    "r = sr.Recognizer()"
   ]
  },
  {
   "cell_type": "markdown",
   "metadata": {},
   "source": [
    "## Now we are going to record the audio and convert this audio file into a text file"
   ]
  },
  {
   "cell_type": "code",
   "execution_count": 4,
   "metadata": {},
   "outputs": [
    {
     "name": "stdout",
     "output_type": "stream",
     "text": [
      "Recording...\n",
      "Recording finished.\n",
      "Audio recorded and saved as recorded_audio.wav\n",
      "Transcription: hello hello mike testing 123 123 123 123 123\n"
     ]
    }
   ],
   "source": [
    "import pyaudio\n",
    "import wave\n",
    "\n",
    "# Parameters\n",
    "FORMAT = pyaudio.paInt16  # Audio format\n",
    "CHANNELS = 1  # Number of channels\n",
    "RATE = 44100  # Sample rate (Hz)\n",
    "CHUNK = 1024  # Chunk size (number of frames per buffer)\n",
    "RECORD_SECONDS = 10  # Duration of the recording (seconds)\n",
    "OUTPUT_FILENAME = \"recorded_audio.wav\"  # Output filename\n",
    "\n",
    "try:\n",
    "    # Initialize PyAudio\n",
    "    audio = pyaudio.PyAudio()\n",
    "\n",
    "    # Open stream\n",
    "    stream = audio.open(format=FORMAT, channels=CHANNELS,\n",
    "                        rate=RATE, input=True,\n",
    "                        frames_per_buffer=CHUNK)\n",
    "\n",
    "    print(\"Recording...\")\n",
    "\n",
    "    frames = []\n",
    "\n",
    "    # Record data\n",
    "    for i in range(0, int(RATE / CHUNK * RECORD_SECONDS)):\n",
    "        data = stream.read(CHUNK)\n",
    "        frames.append(data)\n",
    "\n",
    "    print(\"Recording finished.\")\n",
    "\n",
    "    # Stop and close the stream\n",
    "    stream.stop_stream()\n",
    "    stream.close()\n",
    "    audio.terminate()\n",
    "\n",
    "    # Save the recorded data as a WAV file\n",
    "    with wave.open(OUTPUT_FILENAME, 'wb') as wf:\n",
    "        wf.setnchannels(CHANNELS)\n",
    "        wf.setsampwidth(audio.get_sample_size(FORMAT))\n",
    "        wf.setframerate(RATE)\n",
    "        wf.writeframes(b''.join(frames))\n",
    "\n",
    "    print(f\"Audio recorded and saved as {OUTPUT_FILENAME}\")\n",
    "    with sr.AudioFile(OUTPUT_FILENAME) as source:\n",
    "        audio = r.record(source)  # Read the entire audio file\n",
    "\n",
    "        try:\n",
    "            # Recognize the speech using Google Web Speech API\n",
    "            text = r.recognize_google(audio)\n",
    "            print(\"Transcription: \" + text)\n",
    "            # Append the transcription to a text file\n",
    "            with open(\"transcription.txt\", \"a\") as f:\n",
    "                f.write(text + \"\\n\")\n",
    "            # Save the transcription to a text file\n",
    "            with open(\"transcription.txt\", \"w\") as f:\n",
    "                f.write(text)\n",
    "                \n",
    "        except sr.UnknownValueError:\n",
    "            print(\"Google Speech Recognition could not understand the audio\")\n",
    "        except sr.RequestError as e:\n",
    "            print(\"Could not request results from Google Speech Recognition service; {0}\".format(e))\n",
    "except OSError as e:\n",
    "    print(f\"OSError encountered: {e}\")"
   ]
  },
  {
   "cell_type": "markdown",
   "metadata": {},
   "source": [
    "updated for continuos recording"
   ]
  },
  {
   "cell_type": "code",
   "execution_count": 5,
   "metadata": {},
   "outputs": [
    {
     "ename": "",
     "evalue": "",
     "output_type": "error",
     "traceback": [
      "\u001b[1;31mThe Kernel crashed while executing code in the current cell or a previous cell. \n",
      "\u001b[1;31mPlease review the code in the cell(s) to identify a possible cause of the failure. \n",
      "\u001b[1;31mClick <a href='https://aka.ms/vscodeJupyterKernelCrash'>here</a> for more info. \n",
      "\u001b[1;31mView Jupyter <a href='command:jupyter.viewOutput'>log</a> for further details."
     ]
    }
   ],
   "source": [
    "import speech_recognition as sr\n",
    "import pyttsx3\n",
    "import pyaudio\n",
    "import wave\n",
    "import nltk\n",
    "from nltk.corpus import stopwords\n",
    "from nltk.tokenize import word_tokenize\n",
    "from collections import Counter\n",
    "from transformers import BertTokenizer, BertModel, BartForConditionalGeneration, BartTokenizer\n",
    "import torch\n",
    "import pandas as pd\n",
    "import requests\n",
    "from bs4 import BeautifulSoup\n",
    "import re\n",
    "import threading\n",
    "\n",
    "# Parameters\n",
    "FORMAT = pyaudio.paInt16  # Audio format\n",
    "CHANNELS = 1  # Number of channels\n",
    "RATE = 44100  # Sample rate (Hz)\n",
    "CHUNK = 1024  # Chunk size (number of frames per buffer)\n",
    "RECORD_SECONDS = 10  # Duration of each recording (seconds)\n",
    "OUTPUT_FILENAME = \"recorded_audio.wav\"  # Output filename\n",
    "\n",
    "# Initialize the recognizer\n",
    "r = sr.Recognizer()\n",
    "\n",
    "def continuous_recording():\n",
    "    \"\"\"Record audio in 10-second intervals and process the transcription in real-time.\"\"\"\n",
    "    try:\n",
    "        # Initialize PyAudio\n",
    "        audio = pyaudio.PyAudio()\n",
    "\n",
    "        # Check for input devices\n",
    "        if audio.get_device_count() == 0:\n",
    "            print(\"No input device found. Exiting.\")\n",
    "            return\n",
    "\n",
    "        streams = []\n",
    "\n",
    "        def record_audio():\n",
    "            \"\"\"Record audio continuously in 10-second intervals.\"\"\"\n",
    "            while not stop_event.is_set():\n",
    "                # Open a new stream for each recording\n",
    "                stream = audio.open(format=FORMAT, channels=CHANNELS,\n",
    "                                    rate=RATE, input=True,\n",
    "                                    frames_per_buffer=CHUNK)\n",
    "                streams.append(stream)\n",
    "                frames = []\n",
    "\n",
    "                for _ in range(0, int(RATE / CHUNK * RECORD_SECONDS)):\n",
    "                    data = stream.read(CHUNK)\n",
    "                    frames.append(data)\n",
    "\n",
    "                # Save the recorded data as a WAV file\n",
    "                with wave.open(OUTPUT_FILENAME, 'wb') as wf:\n",
    "                    wf.setnchannels(CHANNELS)\n",
    "                    wf.setsampwidth(audio.get_sample_size(FORMAT))\n",
    "                    wf.setframerate(RATE)\n",
    "                    wf.writeframes(b''.join(frames))\n",
    "\n",
    "                print(f\"Audio recorded and saved as {OUTPUT_FILENAME}\")\n",
    "\n",
    "                # Stop and close the stream\n",
    "                stream.stop_stream()\n",
    "                streams.remove(stream)\n",
    "                stream.close()\n",
    "\n",
    "        def transcribe_audio():\n",
    "            \"\"\"Transcribe the recorded audio in real-time.\"\"\"\n",
    "            while not stop_event.is_set():\n",
    "                if streams:\n",
    "                    with sr.AudioFile(OUTPUT_FILENAME) as source:\n",
    "                        audio_data = r.record(source)\n",
    "                        try:\n",
    "                            # Recognize the speech using Google Web Speech API\n",
    "                            text = r.recognize_google(audio_data)\n",
    "                            print(\"Transcription: \" + text)\n",
    "                            # Append the transcription to a text file\n",
    "                            with open(\"transcription2.txt\", \"a\") as f:\n",
    "                                f.write(text + \"\\n\")\n",
    "                                # Save the transcription to a text file\n",
    "                            with open(\"transcription2.txt\", \"w\") as f:\n",
    "                                f.write(text)\n",
    "                        except sr.UnknownValueError:\n",
    "                            print(\"Google Speech Recognition could not understand the audio\")\n",
    "                        except sr.RequestError as e:\n",
    "                            print(\"Could not request results from Google Speech Recognition service; {0}\".format(e))\n",
    "\n",
    "        # Create and start the recording and transcribing threads\n",
    "        record_thread = threading.Thread(target=record_audio)\n",
    "        transcribe_thread = threading.Thread(target=transcribe_audio)\n",
    "        record_thread.start()\n",
    "        transcribe_thread.start()\n",
    "\n",
    "        # Wait for interrupt signal to stop recording\n",
    "        input(\"Press Enter to stop recording...\\n\")\n",
    "        stop_event.set()\n",
    "\n",
    "        # Ensure threads complete their work\n",
    "        record_thread.join()\n",
    "        transcribe_thread.join()\n",
    "\n",
    "        # Terminate PyAudio instance\n",
    "        audio.terminate()\n",
    "\n",
    "    except OSError as e:\n",
    "        print(f\"OSError encountered: {e}\")\n",
    "\n",
    "# Initialize an event to handle stop signal\n",
    "stop_event = threading.Event()\n",
    "\n",
    "# Start continuous recording and transcription\n",
    "continuous_recording()\n"
   ]
  },
  {
   "cell_type": "code",
   "execution_count": null,
   "metadata": {},
   "outputs": [],
   "source": []
  },
  {
   "cell_type": "code",
   "execution_count": null,
   "metadata": {},
   "outputs": [],
   "source": []
  }
 ],
 "metadata": {
  "kernelspec": {
   "display_name": ".venv",
   "language": "python",
   "name": "python3"
  },
  "language_info": {
   "codemirror_mode": {
    "name": "ipython",
    "version": 3
   },
   "file_extension": ".py",
   "mimetype": "text/x-python",
   "name": "python",
   "nbconvert_exporter": "python",
   "pygments_lexer": "ipython3",
   "version": "3.10.11"
  }
 },
 "nbformat": 4,
 "nbformat_minor": 2
}
